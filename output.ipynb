{
 "cells": [
  {
   "cell_type": "code",
   "execution_count": 5,
   "metadata": {},
   "outputs": [
    {
     "name": "stdout",
     "output_type": "stream",
     "text": [
      "[INFO] loading digit classifier...\n",
      "[INFO] processing image...\n",
      "[INFO] OCR'd sudoku board:\n",
      "+-------+-------+-------+\n",
      "| 8     |   1   |     9 |\n",
      "|   5   | 8   7 |   1   |\n",
      "|     4 |   9   | 7     |\n",
      "+-------+-------+-------+\n",
      "|   6   | 7   1 |   2   |\n",
      "| 5   8 |   6   | 1   7 |\n",
      "|   1   | 5   2 |   9   |\n",
      "+-------+-------+-------+\n",
      "|     7 |   4   | 6     |\n",
      "|   8   | 3   9 |   4   |\n",
      "| 3     |   5   |     8 |\n",
      "+-------+-------+-------+\n",
      "\n",
      "[INFO] solving sudoku puzzle...\n",
      "\n",
      "---------------------------\n",
      "9x9 (3x3) SUDOKU PUZZLE\n",
      "Difficulty: SOLVED\n",
      "---------------------------\n",
      "+-------+-------+-------+\n",
      "| 8 7 2 | 4 1 3 | 5 6 9 |\n",
      "| 9 5 6 | 8 2 7 | 3 1 4 |\n",
      "| 1 3 4 | 6 9 5 | 7 8 2 |\n",
      "+-------+-------+-------+\n",
      "| 4 6 9 | 7 3 1 | 8 2 5 |\n",
      "| 5 2 8 | 9 6 4 | 1 3 7 |\n",
      "| 7 1 3 | 5 8 2 | 4 9 6 |\n",
      "+-------+-------+-------+\n",
      "| 2 9 7 | 1 4 8 | 6 5 3 |\n",
      "| 6 8 5 | 3 7 9 | 2 4 1 |\n",
      "| 3 4 1 | 2 5 6 | 9 7 8 |\n",
      "+-------+-------+-------+\n",
      "\n",
      "        \n"
     ]
    },
    {
     "name": "stderr",
     "output_type": "stream",
     "text": [
      "2020-09-12 14:30:01.004684: I tensorflow/core/platform/cpu_feature_guard.cc:142] Your CPU supports instructions that this TensorFlow binary was not compiled to use: AVX2\n"
     ]
    }
   ],
   "source": [
    "!python solve_sudoku_puzzle.py --model output/digit_classifier.h5 --image Sudoku_puzzle.jpg"
   ]
  },
  {
   "cell_type": "code",
   "execution_count": null,
   "metadata": {},
   "outputs": [],
   "source": []
  }
 ],
 "metadata": {
  "kernelspec": {
   "display_name": "Python 3",
   "language": "python",
   "name": "python3"
  },
  "language_info": {
   "codemirror_mode": {
    "name": "ipython",
    "version": 3
   },
   "file_extension": ".py",
   "mimetype": "text/x-python",
   "name": "python",
   "nbconvert_exporter": "python",
   "pygments_lexer": "ipython3",
   "version": "3.7.6"
  }
 },
 "nbformat": 4,
 "nbformat_minor": 4
}
